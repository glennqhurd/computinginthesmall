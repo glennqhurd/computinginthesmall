{
 "cells": [
  {
   "cell_type": "markdown",
   "metadata": {},
   "source": [
    "# Computing in the Small\n",
    "## Week 5 Cellular Automata\n",
    "This week we want to look at cellular automata.  A cellular automata consists of a doubly infinite list of sites with values coming from a set $\\{0, ..., k\\}$.\n",
    "\n",
    "![Rule 30](https://mathworld.wolfram.com/images/eps-svg/ElementaryCARule030_1000.svg)\n",
    "\n",
    "<img src=\"https://mathworld.wolfram.com/images/eps-svg/ElementaryCARule030_1000.svg\" height=256>\n"
   ]
  },
  {
   "cell_type": "markdown",
   "metadata": {},
   "source": [
    "### Elementary Cellular Automata\n",
    "An elementary cellular automaton consists of a lattice of sites taking on value 0 and 1, and a local rule in the form of a function: $f(x, y, z)$ which describes the new value at each site with the previous value at the site and its left and right neighbors.\n",
    "\n"
   ]
  },
  {
   "cell_type": "markdown",
   "metadata": {},
   "source": [
    "#### Elementary Functions\n",
    "Let's enumerate possible local functions.  The very simplest case is one where the value returned depends on no arguments.  There are two possibilities:\n",
    "- $f() = 0$ which maps all values to $0$\n",
    "- $f() = 1$ which maps all values to $1$\n",
    "\n",
    "We can see this by noticing that we have two spaces to fill in: the answer returned when the input is $0$ and the answer when the input is $1$.  There are $2 \\times 2$ possible ways to acocmplish this, hence four possible functions.\n",
    "\n",
    "In Python (notice that the expression $1 - x$ takes $0$ to $1$ and $1$ to $0$):"
   ]
  },
  {
   "cell_type": "code",
   "execution_count": null,
   "metadata": {},
   "outputs": [],
   "source": [
    "def f0():\n",
    "    return 0\n",
    "\n",
    "def f1():\n",
    "    return 1"
   ]
  },
  {
   "cell_type": "markdown",
   "metadata": {},
   "source": [
    "- $f(x) = x$ which maps $0$ to $0$ and $1$ to $1$\n",
    "- $f(x) = 1 - x$ which maps  $0$ to $1$ and $1$ to $0$"
   ]
  },
  {
   "cell_type": "code",
   "execution_count": null,
   "metadata": {},
   "outputs": [],
   "source": [
    "def f2(x):\n",
    "    return x\n",
    "\n",
    "def f3(x):\n",
    "    return 1 - x"
   ]
  },
  {
   "cell_type": "markdown",
   "metadata": {},
   "source": [
    "However, none of these functions gives rise to interesting beavior.  The next step is to consider functions that involve a value and its neighbor, which means functions $f(x,y)$ taking two inputs and returning $0$ and $1$.\n",
    "\n",
    "Now we have to consider the values assigned to the inputs\n",
    "$$(0,0), (0,1), (1,0), (1,1)$$\n",
    "Since there are $2 \\times 2 \\times 2 \\times 2$ values to fill in, there are $16$ possible functions.  This list includes the $4$ we have already talked about. "
   ]
  },
  {
   "cell_type": "markdown",
   "metadata": {},
   "source": [
    "Most computer languages support integer values with a fixed number of bits with typical lengths including $8$ ($8$ bits is called a byte), $16$, $32$ and sometimes $64$ or $128$.  These larger groupings are called a *WORD* and the definition of a *WORD* is specific to the computer you are running on.  In many cases, twice the storage assigned to a *WORD* is called a double word, *DWORD*\n",
    "\n",
    "Python allows really large numbers (subject to available memory) and therefore there is no fixed bound on the number of bits."
   ]
  },
  {
   "cell_type": "code",
   "execution_count": 1,
   "metadata": {},
   "outputs": [
    {
     "data": {
      "text/plain": [
       "<matplotlib.image.AxesImage at 0x1fdd3e63020>"
      ]
     },
     "execution_count": 1,
     "metadata": {},
     "output_type": "execute_result"
    },
    {
     "data": {
      "image/png": "[encoded data removed]",
      "text/plain": [
       "<Figure size 640x480 with 1 Axes>"
      ]
     },
     "metadata": {},
     "output_type": "display_data"
    }
   ],
   "source": [
    "import matplotlib.pyplot as plt\n",
    "from cellularautomata import ca_image\n",
    "\n",
    "%matplotlib inline\n",
    "\n",
    "plt.imshow(ca_image(110))"
   ]
  },
  {
   "cell_type": "code",
   "execution_count": null,
   "metadata": {},
   "outputs": [],
   "source": []
  }
 ],
 "metadata": {
  "kernelspec": {
   "display_name": "Python 3",
   "language": "python",
   "name": "python3"
  },
  "language_info": {
   "codemirror_mode": {
    "name": "ipython",
    "version": 3
   },
   "file_extension": ".py",
   "mimetype": "text/x-python",
   "name": "python",
   "nbconvert_exporter": "python",
   "pygments_lexer": "ipython3",
   "version": "3.12.1"
  }
 },
 "nbformat": 4,
 "nbformat_minor": 2
}
