{
 "cells": [
  {
   "cell_type": "markdown",
   "metadata": {},
   "source": [
    "# Computing in the Small\n",
    "## Week 2\n",
    "This week we introduce another model for compting.  Last week we conssidered a function which manipulated numbers, the Collatz function, and this week we look at a system that operates on strings.\n",
    "\n",
    "Post Tag systems were introduced by Emil Post who received a doctorate at Columbia and was now at Princeton on a fellowship.  There was a movement started by the mathematician David Hilbert and later exapanded upon by Bertrand Russell and Alfred North Whitehead to reduce all of mathematics to manipulation of strings without explicit reference to what they mean.  This is not dissimilar to the basics underlying ChatGPT and Large Language MOdels (LLM's).\n",
    "\n",
    "### Python Strings\n",
    "Last week we worked with Python's representations of numbers.  This week we concentrate on strings.  The first thing to note is that Python does not care if you use single quotes ' or double quotes \" provided you remain consistent.  Going forward we will use double quotes to avoid confusion but you may see people use the other (some languages use the two symbols for different purposes and so do not assume they are interchangeable always).\n",
    "\n",
    "For our purposes we will need to perform the following operations on a string:\n",
    "\n",
    "1. Append one string to another.\n",
    "1. Extract the first character of a string.\n",
    "1. Determine the length of a string.\n",
    "1. Return the string after removing the first N characters.\n",
    "\n",
    "The following cells illustrate these operations!"
   ]
  },
  {
   "cell_type": "markdown",
   "metadata": {},
   "source": [
    "### Appending Strings\n",
    "To append strings we use the `+` operator.  This means that `\"Hello \" + \"World\"` yields `\"Hello World\"`.\n",
    "\n",
    "Also `\"1\" + \"1\"` gives `\"11\"`.\n",
    "\n",
    "Use the cell below to try for yourself."
   ]
  },
  {
   "cell_type": "code",
   "execution_count": null,
   "metadata": {},
   "outputs": [],
   "source": [
    "  "
   ]
  },
  {
   "cell_type": "markdown",
   "metadata": {},
   "source": [
    "### Extracting Characters from Strings\n",
    "In some ways Python treats strings as a list of characters.  As it does with lists, Python starts counting with 0 instead of 1 (this is popular among many computer languages, although there are a small number that do count from 1).  Therefore if we assign a string to a variable s:\n",
    "\n",
    "`s = \"My string\"`\n",
    "\n",
    "The character `s[0]` gives `\"M\"`, the character `s[1]` gives `\"y\"`.  Try to guess what index `s[n]` would give you `\"g\"` and verify your guess below.  What do you think `s[-1]` would return?  Try it.\n"
   ]
  },
  {
   "cell_type": "code",
   "execution_count": null,
   "metadata": {},
   "outputs": [],
   "source": []
  },
  {
   "cell_type": "markdown",
   "metadata": {},
   "source": [
    "### Length of strings\n",
    "The length of a string is given by the built-in function `len` (actually the same function is used by Python on other structures such as lists).\n",
    "\n",
    "If `s = \"My string\"` then `len(s)` returns 9.  Because indexes start at `0` they end at `len(s) - 1`.  Verify in the box below that `s[len(s) - 1]` does, in fact, give the last character in the string.\n"
   ]
  },
  {
   "cell_type": "code",
   "execution_count": null,
   "metadata": {},
   "outputs": [],
   "source": []
  },
  {
   "cell_type": "markdown",
   "metadata": {},
   "source": [
    "### Extracting Part of a String\n",
    "Extracting part of a string is a generalization of getting a specific character.  You can get a range of elements by giving two indicies separated by a colon.  For example:\n",
    "\n",
    "If `s = \"My string\"` then `s[3:6]` is `\"str\"`\n",
    "\n",
    "You can also leave out one of the two arguments.  If the index before the `:` is ommitted it is assumed ot be 0 (from the beginning) and if the number at the end is ommitted it is assumed to be `len(s) - 1` i.e., the end of the string.  So, for example:\n",
    "\n",
    "1. `s[:2]` gives `\"My\"` (the first `2`` characters)\n",
    "1. `s[3:]` gives `\"string\"` (the result of dropping `3` characters`)"
   ]
  },
  {
   "cell_type": "code",
   "execution_count": null,
   "metadata": {},
   "outputs": [],
   "source": []
  },
  {
   "cell_type": "markdown",
   "metadata": {},
   "source": [
    "### Sets\n",
    "When we analyze the behavior of strings under our rule, it is helpful to detect when we start seeing strings we havee already seen without having to work this out by hand.  Happily Python has a data structure designed to do just this, in the form of a set.  For our purposes we need the following operations:\n",
    "\n",
    "1. Crate a new set.\n",
    "1. Add an element to a set.\n",
    "1. Determine if an element belongs to a set.\n",
    "\n",
    "#### Creation\n",
    "To create a new (smpty) set we simply say:\n",
    "\n",
    "`x = set()`\n",
    "\n",
    "To add an element to a set we say:\n",
    "\n",
    "`x.add(\"new element\")`\n",
    "\n",
    "Note sets can hold strings or numbers (among other data types).\n",
    "\n",
    "To check for membership we say:\n",
    "\n",
    "```\n",
    "s = set()\n",
    "s.add(\"x\")\n",
    "if \"x\" in s:\n",
    "    print(\"Found it\")\n",
    "```"
   ]
  },
  {
   "cell_type": "markdown",
   "metadata": {},
   "source": [
    "### while loops\n",
    "A `while` loop is similar to a `for` loop except that instead of a fixed number of loop iterations, it will continue until a test condition becomes true.  For example, last week we noted that any even number (greater than 0) eventually becomes odd if you divide by two enough.  Here's an example `while` loop illustrating this.  Feel free to modify to use a different start value.  What happens if we start with an odd number?"
   ]
  },
  {
   "cell_type": "code",
   "execution_count": null,
   "metadata": {},
   "outputs": [],
   "source": [
    "n = 128\n",
    "while n % 2 == 0:\n",
    "    n = n // 2\n",
    "    print(n)"
   ]
  },
  {
   "cell_type": "markdown",
   "metadata": {},
   "source": [
    "## Post Tag System\n",
    "We now have all the working pieces to describe a Post tag system.  We will first describe the system that first gave POst problems trying to describe.  We start with a string consisting of `0's` and `1's` and update according to the following rules.\n",
    "\n",
    "1. If the length of the string is less than 3, stop.\n",
    "1. If the first character is `0` append `00` and remove the first three characters.\n",
    "1. If the first character is `1` append `1101` and remove the first three characters.\n",
    "\n",
    "Note that the second rule makes the string shorter and the first rule longer.  Try to work out what happens to these initial strings using pencil and paper:\n",
    "\n",
    "1. `\"101\"`\n",
    "1. `\"1111\"`\n",
    "\n",
    "In both cases you should notice that we evenually get into a loop.  How many steps does it take to reach a loop and how big is the loop?\n",
    "\n",
    "Here is code to perform our rule (notice that we take a shortcut by appending the new string and lopping off the first three characters in the same line):"
   ]
  },
  {
   "cell_type": "code",
   "execution_count": null,
   "metadata": {},
   "outputs": [],
   "source": [
    "def post(s):\n",
    "    if len(s) < 3:\n",
    "        return \"\"\n",
    "    if s[0] == \"0\":\n",
    "        return (s + \"00\")[3:]\n",
    "    else:\n",
    "        return (s + \"1101\")[3:]"
   ]
  },
  {
   "cell_type": "markdown",
   "metadata": {},
   "source": [
    "Just as we did for the Collatz problem, it is helpful to write a helper function that will run our rule over and over again:"
   ]
  },
  {
   "cell_type": "code",
   "execution_count": null,
   "metadata": {},
   "outputs": [],
   "source": [
    "def post_iterated(s, n):\n",
    "    for i in range(n):\n",
    "        print(s, \" -> \", end=\"\")\n",
    "        s = post(s)\n",
    "    print(s)\n",
    "\n",
    "post_iterated(\"101\", 6)"
   ]
  },
  {
   "cell_type": "markdown",
   "metadata": {},
   "source": [
    "Looking at the output from this command, we see that after four steps we start repeating `-> 10100 -> 001101 --> 10100 -> ...` which is a loop of period 2.  Perform the same analysis for `post_iterated(\"1111\", 6)` noting you may need to increase the second argument to find the loop.  If we try with the starting string `\"11111\"` we will eventually hit a loop but it takes more time to find it and it is tedious to try figuring it out by hand.  tedious problems are why we have computers!\n",
    "\n",
    "Let's modify our program instead of giving it a fixed number of steps, we will run until we see a string we have seen before.  Note that we are guessing that we will find a duplicate and some rules may keep on going forever."
   ]
  },
  {
   "cell_type": "code",
   "execution_count": null,
   "metadata": {},
   "outputs": [],
   "source": [
    "def post_iterated_set(s):\n",
    "    visited = set()\n",
    "    while s not in visited:\n",
    "        visited.add(s)\n",
    "        print(s, \" -> \", end=\"\")\n",
    "        s = post(s)\n",
    "    print(s)\n",
    "\n",
    "post_iterated_set(\"11111\")"
   ]
  },
  {
   "cell_type": "markdown",
   "metadata": {},
   "source": [
    "### A \"Collatz\" Post Tag System\n",
    "As a second example we consider a different system that has the following rules.  Strings in this system consist of strngs having `\"a\"`, `\"b\"`, `\"c\"`:\n",
    "\n",
    "1. If the length of the string is less than 2, stop.\n",
    "1. If the first character is `a` append `bc` and remove the first two characters.\n",
    "1. If the first character is `b` append `a` and remove the first two characters.\n",
    "1. If the first character is `c` append `aaa` and remove the first two characters."
   ]
  },
  {
   "cell_type": "code",
   "execution_count": null,
   "metadata": {},
   "outputs": [],
   "source": [
    "def post_collatz(s):\n",
    "    if len(s) < 2:\n",
    "        return \"\"\n",
    "    if s[0] == \"a\":\n",
    "        return (s + \"bc\")[2:]\n",
    "    elif s[0] == \"b\":\n",
    "        return (s + \"a\")[2:]\n",
    "    else:\n",
    "        return (s + \"aaa\")[2:]\n",
    "\n",
    "def post_collatz_iterated(s, n):\n",
    "    for i in range(n):\n",
    "        print(s, \" -> \", end=\"\")\n",
    "        s = post_collatz(s)\n",
    "    print(s)"
   ]
  },
  {
   "cell_type": "markdown",
   "metadata": {},
   "source": [
    "Okay, but why are we calling this \"Collatz\" and what does it have to do with the `3x + 1` problem?\n",
    "\n",
    "First we are interested in what happens to strings consisting entirely of `a's`.  Let us first see what happens to strings with an even number of `a's`.`   We will also iterated exactly as many times as the length of the string we are starting with.  E.g.,\n",
    "\n",
    "1. post_collatz_iterated(\"aa\", 2)\n",
    "1. post_collatz_iterated(\"aaaa\", 4)\n",
    "1. post_collatz_iterated(\"aaaaaa\", 6)"
   ]
  },
  {
   "cell_type": "code",
   "execution_count": 39,
   "metadata": {},
   "outputs": [
    {
     "name": "stdout",
     "output_type": "stream",
     "text": [
      "aaaaaa  -> aaaabc  -> aabcbc  -> bcbcbc  -> bcbca  -> bcaa  -> aaa\n"
     ]
    }
   ],
   "source": [
    "post_collatz_iterated(\"aaaaaa\", 6)"
   ]
  },
  {
   "cell_type": "markdown",
   "metadata": {},
   "source": [
    "If you play around with even numbers of `a's` you should come to the conlusion that in exactly `len(s)` steps we get another string of `a's` of half the length and there are no intermediate steps that consist of all `a's`.  The first half of the steps replaces the initial string with a string of equal length of the form `bcbc...bc` and the second half of the iterations replaces each pair `bc` with a single `a`."
   ]
  },
  {
   "cell_type": "markdown",
   "metadata": {},
   "source": [
    "Half of the Collats rule states that if `n` is even the next number is `n/2.`\n",
    "\n",
    "What about odd numbers?\n",
    "\n",
    "Here our new system has a slight tweak from our original Collatz rule.  In the original form of the Collatz rule we mapped all odd numbers `n` to `3n + 1`.  On thing we could have noted is that this always takes an odd number to an even number and therefore the next step in the sequence will always be to divide this new number by `2`.  Therefore we sometimes shorten the Collatz rule by replacing the last rule with:\n",
    "\n",
    "- If `n` is odd return `(3 * n + 1)//2`\n",
    "\n",
    "and this turns out to be what our new system computes.  For example this new function maps:\n",
    "\n",
    "- `3 -> (3 * 3 + 1) // 2 = 5`\n",
    "- `5 -> (3 * 5 + 1) // 2 = 8`"
   ]
  },
  {
   "cell_type": "code",
   "execution_count": 43,
   "metadata": {},
   "outputs": [
    {
     "name": "stdout",
     "output_type": "stream",
     "text": [
      "aaaaa  -> aaabc  -> abcbc  -> cbcbc  -> cbcaaa  -> caaaaaa  -> aaaaaaaa  -> aaaaaabc  -> aaaabcbc\n"
     ]
    }
   ],
   "source": [
    "post_collatz_iterated(\"aaaaa\", 8)"
   ]
  },
  {
   "cell_type": "code",
   "execution_count": null,
   "metadata": {},
   "outputs": [],
   "source": []
  }
 ],
 "metadata": {
  "kernelspec": {
   "display_name": "Python 3",
   "language": "python",
   "name": "python3"
  },
  "language_info": {
   "codemirror_mode": {
    "name": "ipython",
    "version": 3
   },
   "file_extension": ".py",
   "mimetype": "text/x-python",
   "name": "python",
   "nbconvert_exporter": "python",
   "pygments_lexer": "ipython3",
   "version": "3.12.1"
  }
 },
 "nbformat": 4,
 "nbformat_minor": 2
}
