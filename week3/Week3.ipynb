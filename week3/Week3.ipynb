{
 "cells": [
  {
   "cell_type": "markdown",
   "metadata": {},
   "source": [
    "# Computing in the Small\n",
    "## Week 3\n",
    "Pascal's triangle is named after French philospher and mathematician Blaise Pascal however it has been discovered many times in many countries (e.g., Iran/Persia, China, India, Italy, Germany...) in some cases centuries before Pascal."
   ]
  },
  {
   "cell_type": "markdown",
   "metadata": {},
   "source": [
    "### Python features - Lists\n",
    "The main new structure we want to use in Python is a list.  A Python list can contain many types of data including numbers, strings, sets, and even other lists.  We will be intereste din lists of numbers and more specifically integers like:\n",
    "\n",
    "```\n",
    "x = [ 1, 2, 3]\n",
    "```\n",
    "Just like strings which we looked at last week, we can extract the elemts of a list using brackets, e.g., `x[0]` returns `1` and `x[-1]`, `x[2]`, `x[len(x) - 1]` represent three different ways to get the last element, in this case `3`."
   ]
  },
  {
   "cell_type": "code",
   "execution_count": null,
   "metadata": {},
   "outputs": [],
   "source": [
    "x = [1, 2, 3]\n",
    "print(x[0])\n",
    "print(x[-1])\n",
    "print(x[len(x)-1])\n",
    "print(x[2])"
   ]
  },
  {
   "cell_type": "markdown",
   "metadata": {},
   "source": [
    "Slices and `len` work the same way on lists as they do on strings:\n",
    "\n",
    "```\n",
    "x = [1, 2, 3, 4, 5]\n",
    "len(x) --> 5\n",
    "x[2:4] --> [3, 4]\n",
    "x[:3] --> [1, 2, 3]\n",
    "x[3:] --> [4, 5]\n",
    "```\n",
    "\n",
    "To sort out what a slice looks like, remember:\n",
    "- if there are numbers on both sides of a `:`, i.e., `x[i:j]`, the length of the list returned is `j - 1`.\n",
    "- the first element returned is in position `i` (counting from 0)\n",
    "- if the first number is missing it is assumed to be `0` (i.e., `x[0:2]` and `x[:2]` are synonymous)\n",
    "- if the second number is missing it is assumed to be `len(x)`"
   ]
  },
  {
   "cell_type": "markdown",
   "metadata": {},
   "source": [
    "Other operations carry over from strings.  To concatenate two lists you can use `\"+\"`.  You can also form a list that is a number of copies of a given list using `*` Evaluate the next cell to verify that:\n",
    "```\n",
    "[1, 2, 3] + [4, 5, 6] --> [1, 2, 3, 4, 5, 6]\n",
    "3 * [1, 2] --> [1, 2, 1, 2, 1, 2]\n",
    "```\n",
    "Note that spaces around operators and after commas are good style but not required by the language."
   ]
  },
  {
   "cell_type": "code",
   "execution_count": null,
   "metadata": {},
   "outputs": [],
   "source": [
    "print([1, 2, 3] + [4, 5, 6])\n",
    "print(3 * [1,  2])"
   ]
  },
  {
   "cell_type": "markdown",
   "metadata": {},
   "source": [
    "### Modifying elements\n",
    "One way in which lists differ from strings is their ability to be modified in place (programmers refer to this as being mutable).  So we can say:\n",
    "```\n",
    "x = [1, 2, 3, 4, 5]\n",
    "x[1] = 7\n",
    "```\n",
    "Now if we look at `x` we will find it is equal to:\n",
    "```\n",
    "[1, 2, 7, 4, 5]\n",
    "```\n",
    "Similarly we can add elements to the end using the function `append`:\n",
    "```\n",
    "x = [1, 2, 3, 4, 5]\n",
    "x.append(8)\n",
    "```\n",
    "evaluating we find that `x` now has the value:\n",
    "```\n",
    "[1, 2, 3, 4, 5, 8]\n",
    "```\n",
    "Try out some combinations in the cell below."
   ]
  },
  {
   "cell_type": "code",
   "execution_count": null,
   "metadata": {},
   "outputs": [],
   "source": []
  },
  {
   "cell_type": "markdown",
   "metadata": {},
   "source": [
    "## Pascal's Triangle\n",
    "The first row of the triangle consists of a single $1$ and the next row is  $1 1$ and each subsequent row starts and ends with $1$ and then fills in the sum of the two numbers immediately above it.\n",
    "```\n",
    "    1\n",
    "   1 1\n",
    "  1 2 1\n",
    " 1 3 3 1\n",
    "1 4 6 4 1\n",
    "```\n",
    "Alternatively one can take a row and shift it right one place and then add the two copies to get the next row.  These approaches can be used as follows to generate the rows in succession:"
   ]
  },
  {
   "cell_type": "code",
   "execution_count": null,
   "metadata": {},
   "outputs": [],
   "source": [
    "def triangle(n):\n",
    "  if n == 1:\n",
    "    return [1]\n",
    "  else:\n",
    "    previous = triangle(n - 1)\n",
    "    row = [1]\n",
    "    for i in range(len(previous) - 1):\n",
    "      row.append(previous[i] + previous[i + 1])\n",
    "    row.append(1)\n",
    "    return [1] + triangle(n - 1) + [n]"
   ]
  }
 ],
 "metadata": {
  "kernelspec": {
   "display_name": "Python 3",
   "language": "python",
   "name": "python3"
  },
  "language_info": {
   "codemirror_mode": {
    "name": "ipython",
    "version": 3
   },
   "file_extension": ".py",
   "mimetype": "text/x-python",
   "name": "python",
   "nbconvert_exporter": "python",
   "pygments_lexer": "ipython3",
   "version": "3.11.0"
  }
 },
 "nbformat": 4,
 "nbformat_minor": 2
}
