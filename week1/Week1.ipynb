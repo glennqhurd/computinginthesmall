{
 "cells": [
  {
   "cell_type": "markdown",
   "metadata": {},
   "source": [
    "# Computing in the Small\n",
    "## Week 1\n",
    "This is a Jupyter notebook.  The data is divided into cells of two types.  Markdown cells contain text and Python cells contain runnable code.  Generally code will be only written in the latter, except that on occasion we will add instructions to a markdown explanation instructing what should be written in the Python cell. If you are working with a partner, please takes turns at the keyboard especially if you differ in experience.\n",
    "\n",
    "### Python as a Calculator\n",
    "Anything you write in a Python cell will be immediately executed (after hitting ctl-enter) and the result returned, however only the last expression will be printed.  This happens because Python is an \"interpreter\" which reacts to what you give it one line at a time (as opposed to other computer languages such as Java, C++ that \"compile\" an entire program at once).\n",
    "\n",
    "1. Enter `2 + 2` in the box below and then hit **ctl-enter** (hit the enter key while holding down the control key).  Then edit the cell to add a second line `3 + 3` and hit **ctl-enter** again and verify that only the second result is shown.\n",
    "\n",
    "1. We can avoid the problem by explicitly using the `print()` function.  Try writing `print(2 + 2)` on one line and `print(3 + 3)` on the next.  Observe that you can see both results."
   ]
  },
  {
   "cell_type": "code",
   "execution_count": null,
   "metadata": {},
   "outputs": [],
   "source": []
  },
  {
   "cell_type": "markdown",
   "metadata": {},
   "source": [
    "Python lets you assign values into variables by using the `=` operator.\n",
    "\n",
    "1. In the following box type `x = 4` and then **ctl-enter**.  Notice that nothing is printed.\n",
    "1. Add a second line that says `x` to the same box and try again.\n",
    "1. Now edit the second line to say `print(x)`.\n",
    "1. Add a line `print(y)` to see what happens when we evaluate a variable that has not been defined.\n",
    "\n"
   ]
  },
  {
   "cell_type": "code",
   "execution_count": null,
   "metadata": {},
   "outputs": [],
   "source": []
  },
  {
   "cell_type": "markdown",
   "metadata": {},
   "source": [
    "Jupyter only knows about cells you have evaluated and in the order in which you run them.\n",
    "\n",
    "1. In the cell that follows this, enter `y = 7` and evaluate (**ctl-enter**) the cell.\n",
    "1. Now return to the previous cell and hit **ctl-enter** again.  Even though the cells are still in the same order, you should now avoid the error."
   ]
  },
  {
   "cell_type": "code",
   "execution_count": null,
   "metadata": {},
   "outputs": [],
   "source": []
  },
  {
   "cell_type": "markdown",
   "metadata": {},
   "source": [
    "### Functions\n",
    "Python also allows you to define functions.  You do this by entering, for example:\n",
    "\n",
    "```\n",
    "def my_function(x):\n",
    "    return x + 1\n",
    "```\n",
    "\n",
    "Type this into the box below but take note of the following details:\n",
    "\n",
    "1. The first line is followed by a colon.\n",
    "1. Lines in the function are *indented* by hiting tab."
   ]
  },
  {
   "cell_type": "code",
   "execution_count": null,
   "metadata": {},
   "outputs": [],
   "source": []
  },
  {
   "cell_type": "markdown",
   "metadata": {},
   "source": [
    "1. Use your function by evaluating `my_function(1)`, `my_function(2)`...  What happens with `0`?  `2.14`? `-7`?\n",
    "1. It is interesting to see how Python handles mistakes.  See what happens if we tried evaluating `my_function(\"oops\")` or `my_function(1, 2)`?\n",
    "1. We can try making two mistakes at once by saying: `my_function(x1, x2)` (undefined variables and too many arguments).  Check to see which error gets flagged (or both)."
   ]
  },
  {
   "cell_type": "code",
   "execution_count": null,
   "metadata": {},
   "outputs": [],
   "source": []
  },
  {
   "cell_type": "markdown",
   "metadata": {},
   "source": [
    "### Number Operations\n",
    "Most numerical operations act as you would expect.  We have the four basic operations:\n",
    "- add `x + y`\n",
    "- subtract `x - y`\n",
    "- multiple `x * y`\n",
    "- divide `x / y`\n",
    "\n",
    "But there is a second kind of division which truncates fractions.\n",
    "- integer divide `x // y`\n",
    "\n",
    "We can also raise numbers to powers by:\n",
    "- exponentiation `x ** y`\n",
    "\n",
    "Find the following:\n",
    "1. `2 ** 8` (by definition this is `2 * 2 * 2 * 2 * 2 * 2 * 2 * 2`)\n",
    "1. What is the difference between `5 / 2` and `5 // 2`?  How about `6 / 2` and `6 // 2`?\n",
    "\n",
    "Another difference that makes Python stand out, is that integers are not fixed in size.  Most languages require integers to be below `2**32 - 1` (roughly 4 billion) or possibly `2**64 - 1` (18 quintillion or 18 billion billion), but Python will happily compute `2**128` (340 undecllion = 340 billion billion billion billion) and beyond."
   ]
  },
  {
   "cell_type": "code",
   "execution_count": null,
   "metadata": {},
   "outputs": [],
   "source": []
  },
  {
   "cell_type": "markdown",
   "metadata": {},
   "source": [
    "There is another operation `n % k` (mod or modulo) that gives the remainder when `n` is divided by `k`.  E.g., if I have `k` friends and I want to give out `n` candies, as I deal them out evenly how many will I have left over?  For example, `5 % 2` gives remainder `1` and `15 % 7` gives remainder `1`.  For any number `n % 2 == 0` if `n` is *even* and `n % 2 == 1` if `n` is *odd*.\n",
    "\n",
    "Find:\n",
    "1. `1 % 2`\n",
    "1. `14 % 2`\n",
    "1. `-35 % 2`\n",
    "\n",
    "If we fix the second argument and evaluate `n % k` for larger and larger `n` we will find that the answer cycles between `0` and `k - 1` independently of whether `n` is positive or negative.  For example, 24-hour clocks count midnight as `0` and if you go back htree hours you get to hour `21` (i.e., 9 pm) on the previous day."
   ]
  },
  {
   "cell_type": "code",
   "execution_count": null,
   "metadata": {},
   "outputs": [],
   "source": []
  },
  {
   "cell_type": "markdown",
   "metadata": {},
   "source": [
    "### Control Functions\n",
    "#### IF/ELSE\n",
    "We want to be able to change behavior on the basis of out input which requires the use of `if/else` statements.  Later we will also talk abut looping.\n",
    "\n",
    "To define an `if` statement, first we need to talk about `boolean` values which are by definition either `True` or `False`.  We often get these values by performing a comparison.  The easiest comparators are:\n",
    "\n",
    "- equals `x == y`  note that we couldn't use a single `=` as that is being used to assign variables\n",
    "- less than `x < y`\n",
    "- less than or equal `x <= y`\n",
    "- greater than `x > y`\n",
    "- greater than or equal `x >= y`\n",
    "- not equals `x != y`\n",
    "\n",
    "Try printing `2 ** 3 == 2 * 2 * 2`, `-1 != 1` and `999999 < 1` (we don't guarantee that these are all true)."
   ]
  },
  {
   "cell_type": "code",
   "execution_count": null,
   "metadata": {},
   "outputs": [],
   "source": []
  },
  {
   "cell_type": "markdown",
   "metadata": {},
   "source": [
    "`IF` statements are written as follows:\n",
    "```\n",
    "if 1 + 1 == 2:\n",
    "    print(\"I told you I could do math\")\n",
    "    print(\"...and I am still in the block...\")\n",
    "```\n",
    "\n",
    "Python will execute all th indented lines if and only if the condition is truee.  Again notice the `:` and the tab!  These tabs are cumulative and so if we use an if statement in a function, we end up tabbing twice.\n",
    "\n",
    "We can also add an `else` block in which case the first block is executed if the test value is `true`, and the second if it is `false`:\n",
    "```\n",
    "if money > 1000000:\n",
    "    print(\"You are a milionaire\")\n",
    "else:\n",
    "    print(\"You are not in the 1%\")\n",
    "```\n",
    "\n",
    "1. Recallng that `x % 2 == 0` if and only if `x` is even, try writing a function `check(x)` that prints **EVEN** if `x` is even and **ODD** otherwise.\n",
    "\n",
    "Note that unlike *most* other computer languages, Python doesn't require parentheses around the arguments to `if`, and takes perverse pride in using as few parenentheses as possible!  You can always add them if the interpreter complains."
   ]
  },
  {
   "cell_type": "code",
   "execution_count": null,
   "metadata": {},
   "outputs": [],
   "source": []
  },
  {
   "cell_type": "markdown",
   "metadata": {},
   "source": [
    "#### Loops\n",
    "There are several kinds of loop in Python, but for the moment we will concentrate on the `for` loop which executes all the lines of code in a block for a fixed number of times.  We will start with a simple case of looping over a range of numbers.  Here is a way to print the first 10 numbers (i.e., the print statement will be called once with `i = 0`, then with `i = 1`, up to `i = 9`):\n",
    "\n",
    "```\n",
    "for i in range(10):\n",
    "    print(i)\n",
    "```\n",
    "\n",
    "Mandatory warning to note the `:` and the tab!\n",
    "\n",
    "Instead of counting 1, 2, 3..., Python by default starts counting at 0 and stops one short of the requested endpoint (i.e., you will get 0, 1, 2,..., 9).\n",
    "\n",
    "We can give `range()` more arguments to set any start and end value, where the first number is included and the last number is not.  For example to get 1...10 we can ask for `range(1, 11)`.  We can also change the jump between elements to say, for example `range(0, 10, 2)` or even count backwards `range(10, 0, -1)`.\n",
    "\n",
    "Copy the code snippet above replacing the range with:\n",
    "1. `range(1, 11)`\n",
    "1. `range(1, 10, 2)`\n",
    "1. `range(10, 0, -1)` (before running ths, make a prediction about what number you expect to see last)\n",
    "\n",
    "To see what numbers are generated we can also wrap `range` with the `list()` function, e.g.,:\n",
    "1. `list(range(1, 11))` --> `[1, 2, 3, 4, 5, 6, 7, 8, 9, 10]`\n",
    "\n",
    "Try and see what would happen if you specify equal endpoints or one in which the stopping value is less than the start (assuming the default step value).\n",
    "1. `list(range(1,1))`\n",
    "1. `list(range(10,1))`\n",
    "In the latter case we probably wanted to have said:\n",
    "1. `list(range((10, 1, -1))`"
   ]
  },
  {
   "cell_type": "code",
   "execution_count": null,
   "metadata": {},
   "outputs": [],
   "source": []
  },
  {
   "cell_type": "markdown",
   "metadata": {},
   "source": [
    "### A Less Trivial Example\n",
    "Let us define a function on integers.  If the starting number `n` is even, we will return `n//2`.  If `n` is odd, we will return `2*n + 1`  (please note this is not the famous version...*yet*).\n",
    "\n",
    "You can try this out by writing the following in the code cell below:\n",
    "```\n",
    "def simple(n):\n",
    "    if n % 2 == 0:\n",
    "        return n // 2\n",
    "    else:\n",
    "        return 2 * n + 1\n",
    "```\n",
    "As always, be careful of the `:` and tabs.\n",
    "\n",
    "1. Copy this program and evaluate it on a few numbers.  What kinds of numbers get bigger?  What kinds of numbers get smaller?"
   ]
  },
  {
   "cell_type": "code",
   "execution_count": null,
   "metadata": {},
   "outputs": [],
   "source": [
    "def simple(n):\n",
    "    if n % 2 == 0:\n",
    "        return n // 2\n",
    "    else:\n",
    "        return 2 * n + 1"
   ]
  },
  {
   "cell_type": "markdown",
   "metadata": {},
   "source": [
    "We want to kow what happens to a value if you iterate (repeat) the function over and over.  WE can do this via a `for` loop.\n",
    "\n",
    "```\n",
    "def simple_iterates(x, n):\n",
    "    for i in range(n):\n",
    "        print(x, \"-> \", end=\"\")\n",
    "        x = simple(x)\n",
    "    print(x)\n",
    "```\n",
    "Here `x` is the starting number and `n` is the number of iterates to show.\n",
    "\n",
    "To save space, we are using a paraneter to `print` (`end=\"\"`) that suppresses puttinga  newline after each iteration so that we can display on a single line.\n",
    "\n",
    "1. Evaluate this program and then try to compute:\n",
    "    - `simple_iterates(12, 5)`\n",
    "    - `simple_iterates(3, 10)`\n",
    "    - `simple_iterates(5, 10)`"
   ]
  },
  {
   "cell_type": "code",
   "execution_count": null,
   "metadata": {},
   "outputs": [],
   "source": []
  },
  {
   "cell_type": "code",
   "execution_count": null,
   "metadata": {},
   "outputs": [],
   "source": []
  },
  {
   "cell_type": "code",
   "execution_count": null,
   "metadata": {},
   "outputs": [],
   "source": []
  },
  {
   "cell_type": "markdown",
   "metadata": {},
   "source": [
    "Sometimes the sequence of iteates of one number overlap those of another number.  E.g.,\n",
    "```\n",
    "3 -> 7 -> 15 -> 31...\n",
    "```\n",
    "overlaps\n",
    "```\n",
    "7 -> 15 -> 31 -> 63...\n",
    "```\n",
    "Can you come up with a rule to tell you which numbers never occur in the sequence generated by another number?   Another way to state the problem is, what numbers `y` can possibly occur as the value of `simple(x)` for some `x`?`"
   ]
  },
  {
   "cell_type": "code",
   "execution_count": null,
   "metadata": {},
   "outputs": [],
   "source": []
  },
  {
   "cell_type": "markdown",
   "metadata": {},
   "source": [
    "### The Collatz Conjecture\n",
    "Now we make one seemingly trivial change in our previous function, changing a `2` to  a `3`.  We define:\n",
    "\n",
    "```\n",
    "def collatz(n):\n",
    "    if n % 2 == 0:\n",
    "        return n // 2\n",
    "    else:\n",
    "        return 3 * n + 1\n",
    "```\n",
    "\n",
    "and similarly:\n",
    "\n",
    "```\n",
    "def collatz_iterates(x, n):\n",
    "    for i in range(n):\n",
    "        print(x, \"-> \", end=\"\")\n",
    "        x = collatz(x)\n",
    "    print(x)\n",
    "```\n",
    "\n",
    "Now try to see the fate of the numbers from 1 to 10 under iteration and see if you can detect a pattern"
   ]
  },
  {
   "cell_type": "code",
   "execution_count": null,
   "metadata": {},
   "outputs": [],
   "source": []
  },
  {
   "cell_type": "markdown",
   "metadata": {},
   "source": [
    "The **Collatz Conjecture** states that this sequence ends up in the cycle 1 --> 4 --> 2 --> 1 for *every* positive number `n`.  To date (2024) it ha snot been prove true but it has been verified for numbers up to 5 quintillion (5,000,000,000,000,000,000).  The mathematician Paul Erdős said about the Collatz conjecture: \"Mathematics is not yet ready for such problems.\" He offered **$500 USD** for its solution.\n",
    "\n",
    "https://mathworld.wolfram.com/CollatzProblem.html"
   ]
  },
  {
   "cell_type": "markdown",
   "metadata": {},
   "source": [
    "*Footnote:* Paul Erdős is one of the most prolific mathematicians in history and he has collaborated with many people, leading mathematicians to perform their own version of \"Degress of separation from Kevin Bacon.\".  An author's \"Erdős Number\".  A person who has co-authored a paper with Paul Erdős is defined to have Erdős number 1, someone who has published a paper with someone who has Erdős number 1 has Erdős number 2 etc.  As a \"fun fact\" your instructors for this course have Erdős number 3 and 4 respectively!\n",
    "\n",
    "https://mathworld.wolfram.com/ErdosNumber.html"
   ]
  },
  {
   "cell_type": "markdown",
   "metadata": {},
   "source": [
    "**Homework** \n",
    "Try to figure out what happens to the Collatz function when you start with `0` or a negative number.  Please note that this notebook should be available on any computer with a web browser although as noted earlier your work will not have been saved."
   ]
  },
  {
   "cell_type": "code",
   "execution_count": null,
   "metadata": {},
   "outputs": [],
   "source": []
  }
 ],
 "metadata": {
  "kernelspec": {
   "display_name": "Python 3",
   "language": "python",
   "name": "python3"
  },
  "language_info": {
   "codemirror_mode": {
    "name": "ipython",
    "version": 3
   },
   "file_extension": ".py",
   "mimetype": "text/x-python",
   "name": "python",
   "nbconvert_exporter": "python",
   "pygments_lexer": "ipython3",
   "version": "3.12.1"
  }
 },
 "nbformat": 4,
 "nbformat_minor": 2
}
